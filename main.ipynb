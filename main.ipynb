{
  "nbformat": 4,
  "nbformat_minor": 0,
  "metadata": {
    "colab": {
      "provenance": [],
      "gpuType": "T4"
    },
    "kernelspec": {
      "name": "python3",
      "display_name": "Python 3"
    },
    "language_info": {
      "name": "python"
    },
    "accelerator": "GPU"
  },
  "cells": [
    {
      "cell_type": "markdown",
      "source": [
        "# **`Importing`** ***`Libraries`*** ✈"
      ],
      "metadata": {
        "id": "DibjsbGwFzVq"
      }
    },
    {
      "cell_type": "code",
      "execution_count": 1,
      "metadata": {
        "id": "fFLsoUb53QAD"
      },
      "outputs": [],
      "source": [
        "import pandas as pd\n",
        "import numpy as np\n",
        "import re\n",
        "import nltk\n",
        "import string\n",
        "import nltk\n",
        "from nltk.corpus import stopwords\n",
        "import statistics\n",
        "import tensorflow\n",
        "from tensorflow.keras.preprocessing.text import Tokenizer\n",
        "from tensorflow.keras.preprocessing.sequence import pad_sequences\n",
        "from tensorflow.keras.models import Sequential\n",
        "from tensorflow.keras.layers import Embedding,LSTM,Dense,Dropout,SimpleRNN,GRU,Bidirectional\n",
        "from sklearn.model_selection import train_test_split\n",
        "from sklearn.metrics import accuracy_score,classification_report,confusion_matrix"
      ]
    },
    {
      "cell_type": "markdown",
      "source": [
        "# **Importing** **Data** ⏭"
      ],
      "metadata": {
        "id": "EN6OYYXOId_J"
      }
    },
    {
      "cell_type": "code",
      "source": [
        "df = pd.read_csv('IMDB Dataset.csv',nrows=25000)"
      ],
      "metadata": {
        "id": "I1aRxtHp4GOw"
      },
      "execution_count": 2,
      "outputs": []
    },
    {
      "cell_type": "code",
      "source": [
        "df.head()"
      ],
      "metadata": {
        "colab": {
          "base_uri": "https://localhost:8080/",
          "height": 206
        },
        "id": "i7tSsUX44J4d",
        "outputId": "00bc7dc3-fe27-423e-ef37-25937dbb7b7c"
      },
      "execution_count": 3,
      "outputs": [
        {
          "output_type": "execute_result",
          "data": {
            "text/plain": [
              "                                              review sentiment\n",
              "0  One of the other reviewers has mentioned that ...  positive\n",
              "1  A wonderful little production. <br /><br />The...  positive\n",
              "2  I thought this was a wonderful way to spend ti...  positive\n",
              "3  Basically there's a family where a little boy ...  negative\n",
              "4  Petter Mattei's \"Love in the Time of Money\" is...  positive"
            ],
            "text/html": [
              "\n",
              "  <div id=\"df-246a4279-30ae-466b-b835-d8c7972bacec\" class=\"colab-df-container\">\n",
              "    <div>\n",
              "<style scoped>\n",
              "    .dataframe tbody tr th:only-of-type {\n",
              "        vertical-align: middle;\n",
              "    }\n",
              "\n",
              "    .dataframe tbody tr th {\n",
              "        vertical-align: top;\n",
              "    }\n",
              "\n",
              "    .dataframe thead th {\n",
              "        text-align: right;\n",
              "    }\n",
              "</style>\n",
              "<table border=\"1\" class=\"dataframe\">\n",
              "  <thead>\n",
              "    <tr style=\"text-align: right;\">\n",
              "      <th></th>\n",
              "      <th>review</th>\n",
              "      <th>sentiment</th>\n",
              "    </tr>\n",
              "  </thead>\n",
              "  <tbody>\n",
              "    <tr>\n",
              "      <th>0</th>\n",
              "      <td>One of the other reviewers has mentioned that ...</td>\n",
              "      <td>positive</td>\n",
              "    </tr>\n",
              "    <tr>\n",
              "      <th>1</th>\n",
              "      <td>A wonderful little production. &lt;br /&gt;&lt;br /&gt;The...</td>\n",
              "      <td>positive</td>\n",
              "    </tr>\n",
              "    <tr>\n",
              "      <th>2</th>\n",
              "      <td>I thought this was a wonderful way to spend ti...</td>\n",
              "      <td>positive</td>\n",
              "    </tr>\n",
              "    <tr>\n",
              "      <th>3</th>\n",
              "      <td>Basically there's a family where a little boy ...</td>\n",
              "      <td>negative</td>\n",
              "    </tr>\n",
              "    <tr>\n",
              "      <th>4</th>\n",
              "      <td>Petter Mattei's \"Love in the Time of Money\" is...</td>\n",
              "      <td>positive</td>\n",
              "    </tr>\n",
              "  </tbody>\n",
              "</table>\n",
              "</div>\n",
              "    <div class=\"colab-df-buttons\">\n",
              "\n",
              "  <div class=\"colab-df-container\">\n",
              "    <button class=\"colab-df-convert\" onclick=\"convertToInteractive('df-246a4279-30ae-466b-b835-d8c7972bacec')\"\n",
              "            title=\"Convert this dataframe to an interactive table.\"\n",
              "            style=\"display:none;\">\n",
              "\n",
              "  <svg xmlns=\"http://www.w3.org/2000/svg\" height=\"24px\" viewBox=\"0 -960 960 960\">\n",
              "    <path d=\"M120-120v-720h720v720H120Zm60-500h600v-160H180v160Zm220 220h160v-160H400v160Zm0 220h160v-160H400v160ZM180-400h160v-160H180v160Zm440 0h160v-160H620v160ZM180-180h160v-160H180v160Zm440 0h160v-160H620v160Z\"/>\n",
              "  </svg>\n",
              "    </button>\n",
              "\n",
              "  <style>\n",
              "    .colab-df-container {\n",
              "      display:flex;\n",
              "      gap: 12px;\n",
              "    }\n",
              "\n",
              "    .colab-df-convert {\n",
              "      background-color: #E8F0FE;\n",
              "      border: none;\n",
              "      border-radius: 50%;\n",
              "      cursor: pointer;\n",
              "      display: none;\n",
              "      fill: #1967D2;\n",
              "      height: 32px;\n",
              "      padding: 0 0 0 0;\n",
              "      width: 32px;\n",
              "    }\n",
              "\n",
              "    .colab-df-convert:hover {\n",
              "      background-color: #E2EBFA;\n",
              "      box-shadow: 0px 1px 2px rgba(60, 64, 67, 0.3), 0px 1px 3px 1px rgba(60, 64, 67, 0.15);\n",
              "      fill: #174EA6;\n",
              "    }\n",
              "\n",
              "    .colab-df-buttons div {\n",
              "      margin-bottom: 4px;\n",
              "    }\n",
              "\n",
              "    [theme=dark] .colab-df-convert {\n",
              "      background-color: #3B4455;\n",
              "      fill: #D2E3FC;\n",
              "    }\n",
              "\n",
              "    [theme=dark] .colab-df-convert:hover {\n",
              "      background-color: #434B5C;\n",
              "      box-shadow: 0px 1px 3px 1px rgba(0, 0, 0, 0.15);\n",
              "      filter: drop-shadow(0px 1px 2px rgba(0, 0, 0, 0.3));\n",
              "      fill: #FFFFFF;\n",
              "    }\n",
              "  </style>\n",
              "\n",
              "    <script>\n",
              "      const buttonEl =\n",
              "        document.querySelector('#df-246a4279-30ae-466b-b835-d8c7972bacec button.colab-df-convert');\n",
              "      buttonEl.style.display =\n",
              "        google.colab.kernel.accessAllowed ? 'block' : 'none';\n",
              "\n",
              "      async function convertToInteractive(key) {\n",
              "        const element = document.querySelector('#df-246a4279-30ae-466b-b835-d8c7972bacec');\n",
              "        const dataTable =\n",
              "          await google.colab.kernel.invokeFunction('convertToInteractive',\n",
              "                                                    [key], {});\n",
              "        if (!dataTable) return;\n",
              "\n",
              "        const docLinkHtml = 'Like what you see? Visit the ' +\n",
              "          '<a target=\"_blank\" href=https://colab.research.google.com/notebooks/data_table.ipynb>data table notebook</a>'\n",
              "          + ' to learn more about interactive tables.';\n",
              "        element.innerHTML = '';\n",
              "        dataTable['output_type'] = 'display_data';\n",
              "        await google.colab.output.renderOutput(dataTable, element);\n",
              "        const docLink = document.createElement('div');\n",
              "        docLink.innerHTML = docLinkHtml;\n",
              "        element.appendChild(docLink);\n",
              "      }\n",
              "    </script>\n",
              "  </div>\n",
              "\n",
              "\n",
              "<div id=\"df-eb41edf9-2824-4576-a81d-6387389ca6bc\">\n",
              "  <button class=\"colab-df-quickchart\" onclick=\"quickchart('df-eb41edf9-2824-4576-a81d-6387389ca6bc')\"\n",
              "            title=\"Suggest charts\"\n",
              "            style=\"display:none;\">\n",
              "\n",
              "<svg xmlns=\"http://www.w3.org/2000/svg\" height=\"24px\"viewBox=\"0 0 24 24\"\n",
              "     width=\"24px\">\n",
              "    <g>\n",
              "        <path d=\"M19 3H5c-1.1 0-2 .9-2 2v14c0 1.1.9 2 2 2h14c1.1 0 2-.9 2-2V5c0-1.1-.9-2-2-2zM9 17H7v-7h2v7zm4 0h-2V7h2v10zm4 0h-2v-4h2v4z\"/>\n",
              "    </g>\n",
              "</svg>\n",
              "  </button>\n",
              "\n",
              "<style>\n",
              "  .colab-df-quickchart {\n",
              "      --bg-color: #E8F0FE;\n",
              "      --fill-color: #1967D2;\n",
              "      --hover-bg-color: #E2EBFA;\n",
              "      --hover-fill-color: #174EA6;\n",
              "      --disabled-fill-color: #AAA;\n",
              "      --disabled-bg-color: #DDD;\n",
              "  }\n",
              "\n",
              "  [theme=dark] .colab-df-quickchart {\n",
              "      --bg-color: #3B4455;\n",
              "      --fill-color: #D2E3FC;\n",
              "      --hover-bg-color: #434B5C;\n",
              "      --hover-fill-color: #FFFFFF;\n",
              "      --disabled-bg-color: #3B4455;\n",
              "      --disabled-fill-color: #666;\n",
              "  }\n",
              "\n",
              "  .colab-df-quickchart {\n",
              "    background-color: var(--bg-color);\n",
              "    border: none;\n",
              "    border-radius: 50%;\n",
              "    cursor: pointer;\n",
              "    display: none;\n",
              "    fill: var(--fill-color);\n",
              "    height: 32px;\n",
              "    padding: 0;\n",
              "    width: 32px;\n",
              "  }\n",
              "\n",
              "  .colab-df-quickchart:hover {\n",
              "    background-color: var(--hover-bg-color);\n",
              "    box-shadow: 0 1px 2px rgba(60, 64, 67, 0.3), 0 1px 3px 1px rgba(60, 64, 67, 0.15);\n",
              "    fill: var(--button-hover-fill-color);\n",
              "  }\n",
              "\n",
              "  .colab-df-quickchart-complete:disabled,\n",
              "  .colab-df-quickchart-complete:disabled:hover {\n",
              "    background-color: var(--disabled-bg-color);\n",
              "    fill: var(--disabled-fill-color);\n",
              "    box-shadow: none;\n",
              "  }\n",
              "\n",
              "  .colab-df-spinner {\n",
              "    border: 2px solid var(--fill-color);\n",
              "    border-color: transparent;\n",
              "    border-bottom-color: var(--fill-color);\n",
              "    animation:\n",
              "      spin 1s steps(1) infinite;\n",
              "  }\n",
              "\n",
              "  @keyframes spin {\n",
              "    0% {\n",
              "      border-color: transparent;\n",
              "      border-bottom-color: var(--fill-color);\n",
              "      border-left-color: var(--fill-color);\n",
              "    }\n",
              "    20% {\n",
              "      border-color: transparent;\n",
              "      border-left-color: var(--fill-color);\n",
              "      border-top-color: var(--fill-color);\n",
              "    }\n",
              "    30% {\n",
              "      border-color: transparent;\n",
              "      border-left-color: var(--fill-color);\n",
              "      border-top-color: var(--fill-color);\n",
              "      border-right-color: var(--fill-color);\n",
              "    }\n",
              "    40% {\n",
              "      border-color: transparent;\n",
              "      border-right-color: var(--fill-color);\n",
              "      border-top-color: var(--fill-color);\n",
              "    }\n",
              "    60% {\n",
              "      border-color: transparent;\n",
              "      border-right-color: var(--fill-color);\n",
              "    }\n",
              "    80% {\n",
              "      border-color: transparent;\n",
              "      border-right-color: var(--fill-color);\n",
              "      border-bottom-color: var(--fill-color);\n",
              "    }\n",
              "    90% {\n",
              "      border-color: transparent;\n",
              "      border-bottom-color: var(--fill-color);\n",
              "    }\n",
              "  }\n",
              "</style>\n",
              "\n",
              "  <script>\n",
              "    async function quickchart(key) {\n",
              "      const quickchartButtonEl =\n",
              "        document.querySelector('#' + key + ' button');\n",
              "      quickchartButtonEl.disabled = true;  // To prevent multiple clicks.\n",
              "      quickchartButtonEl.classList.add('colab-df-spinner');\n",
              "      try {\n",
              "        const charts = await google.colab.kernel.invokeFunction(\n",
              "            'suggestCharts', [key], {});\n",
              "      } catch (error) {\n",
              "        console.error('Error during call to suggestCharts:', error);\n",
              "      }\n",
              "      quickchartButtonEl.classList.remove('colab-df-spinner');\n",
              "      quickchartButtonEl.classList.add('colab-df-quickchart-complete');\n",
              "    }\n",
              "    (() => {\n",
              "      let quickchartButtonEl =\n",
              "        document.querySelector('#df-eb41edf9-2824-4576-a81d-6387389ca6bc button');\n",
              "      quickchartButtonEl.style.display =\n",
              "        google.colab.kernel.accessAllowed ? 'block' : 'none';\n",
              "    })();\n",
              "  </script>\n",
              "</div>\n",
              "\n",
              "    </div>\n",
              "  </div>\n"
            ],
            "application/vnd.google.colaboratory.intrinsic+json": {
              "type": "dataframe",
              "variable_name": "df",
              "summary": "{\n  \"name\": \"df\",\n  \"rows\": 25000,\n  \"fields\": [\n    {\n      \"column\": \"review\",\n      \"properties\": {\n        \"dtype\": \"string\",\n        \"num_unique_values\": 24897,\n        \"samples\": [\n          \"There is an awful lot wrong with this picture, beginning with a script that is both obvious and redundant. Courtney Cox plays a comic book artist who escapes to a small desert town after being raped twice in the big city. She immediately is stalked by a local who appears quite unhinged (Craig Sheffer), and who seems to be attempting a third rate Mickey Rourke imitation. D.B. Sweeny is a local cop, who is supposedly there to protect and serve. Meanwhile, the script manipulates the audience as to who's really the good guy? Logic flies out the window after the first ten minutes and never returns, and there are more unanswered questions than there should be. If you think \\\"Blue Desert\\\" might be saved by the wonderful Philip Baker Hall, you will be disappointed. His part is insignificant, just like the entire movie. - MERK\",\n          \"This movie was SO stupid~!!! I could not bare to watch the rest of this movie..... To think that the spoiled bitch suggested to see other people, then walks right into another relationship 5 minutes after the agreement was made.... I really felt sorry for the guy, but then again, for a guy like that to even consider letting his fianc\\u00e9 see other people, to go along with her grand idea, well, I'm sorry but, he deserved what he got~! And she was definitely not the best fish in the sea either, he can do way, way, way better.... She had no tits.... to hips.... no nothing~! And you had to have known that she wanted this right from the start... 5 years~??? How on earth did they last that long~???\",\n          \"An art student in Rome is possessed...or something. She has dreams of being nailed to a cross and Satan himself raping her. He possesses her (I think) and turns her into a sex addict. That's about all I could take and I turned it off.<br /><br />A pointless \\\"Exorcist\\\" rip off. I caught this on cable back in the 80s and was horrified...and not in a good way! This movie is supposed to be a horror film but turns into nothing more than a sex film disguised as a horror movie. There's tons of pointless female nudity and the actress playing the lead has to degrade herself more than once. We see her being raped by Satan (a hot-looking guy), masturbating, coming on to her own father...Gotta give her points for bravery. Add to that bad dubbing, editing (the rape scene looks like it was cut a bit), lousy acting and a story that makes next to no sense. The one disturbing sequence (her being nailed to the cross) ALMOST works but the lousy \\\"special\\\" effects ruin it. This is one of the few horror film that was so bad I stopped watching. Skip it.\"\n        ],\n        \"semantic_type\": \"\",\n        \"description\": \"\"\n      }\n    },\n    {\n      \"column\": \"sentiment\",\n      \"properties\": {\n        \"dtype\": \"category\",\n        \"num_unique_values\": 2,\n        \"samples\": [\n          \"negative\",\n          \"positive\"\n        ],\n        \"semantic_type\": \"\",\n        \"description\": \"\"\n      }\n    }\n  ]\n}"
            }
          },
          "metadata": {},
          "execution_count": 3
        }
      ]
    },
    {
      "cell_type": "markdown",
      "source": [
        "# **Text** **Preprocessing** ✅\n"
      ],
      "metadata": {
        "id": "SQZ5DTCjHN3k"
      }
    },
    {
      "cell_type": "code",
      "source": [
        "nltk.download('stopwords')"
      ],
      "metadata": {
        "colab": {
          "base_uri": "https://localhost:8080/"
        },
        "id": "AJBK70_05ClP",
        "outputId": "cadce3fc-6382-46bf-dfac-e8cca7b6ce7b"
      },
      "execution_count": 5,
      "outputs": [
        {
          "output_type": "stream",
          "name": "stderr",
          "text": [
            "[nltk_data] Downloading package stopwords to /root/nltk_data...\n",
            "[nltk_data]   Unzipping corpora/stopwords.zip.\n"
          ]
        },
        {
          "output_type": "execute_result",
          "data": {
            "text/plain": [
              "True"
            ]
          },
          "metadata": {},
          "execution_count": 5
        }
      ]
    },
    {
      "cell_type": "code",
      "source": [
        "def remove_html_tags(text):\n",
        "  clean_text = re.sub(r'<.*?>', '', text)\n",
        "  return clean_text\n",
        "\n",
        "df['review'] = df['review'].apply(remove_html_tags)\n",
        "df.head()\n"
      ],
      "metadata": {
        "colab": {
          "base_uri": "https://localhost:8080/",
          "height": 206
        },
        "id": "x04gkzKE5K-0",
        "outputId": "2e00de28-e3d9-4093-96a6-764919fe75d1"
      },
      "execution_count": 6,
      "outputs": [
        {
          "output_type": "execute_result",
          "data": {
            "text/plain": [
              "                                              review sentiment\n",
              "0  One of the other reviewers has mentioned that ...  positive\n",
              "1  A wonderful little production. The filming tec...  positive\n",
              "2  I thought this was a wonderful way to spend ti...  positive\n",
              "3  Basically there's a family where a little boy ...  negative\n",
              "4  Petter Mattei's \"Love in the Time of Money\" is...  positive"
            ],
            "text/html": [
              "\n",
              "  <div id=\"df-7787a8d6-b248-4f3e-a432-8a489e3c16dc\" class=\"colab-df-container\">\n",
              "    <div>\n",
              "<style scoped>\n",
              "    .dataframe tbody tr th:only-of-type {\n",
              "        vertical-align: middle;\n",
              "    }\n",
              "\n",
              "    .dataframe tbody tr th {\n",
              "        vertical-align: top;\n",
              "    }\n",
              "\n",
              "    .dataframe thead th {\n",
              "        text-align: right;\n",
              "    }\n",
              "</style>\n",
              "<table border=\"1\" class=\"dataframe\">\n",
              "  <thead>\n",
              "    <tr style=\"text-align: right;\">\n",
              "      <th></th>\n",
              "      <th>review</th>\n",
              "      <th>sentiment</th>\n",
              "    </tr>\n",
              "  </thead>\n",
              "  <tbody>\n",
              "    <tr>\n",
              "      <th>0</th>\n",
              "      <td>One of the other reviewers has mentioned that ...</td>\n",
              "      <td>positive</td>\n",
              "    </tr>\n",
              "    <tr>\n",
              "      <th>1</th>\n",
              "      <td>A wonderful little production. The filming tec...</td>\n",
              "      <td>positive</td>\n",
              "    </tr>\n",
              "    <tr>\n",
              "      <th>2</th>\n",
              "      <td>I thought this was a wonderful way to spend ti...</td>\n",
              "      <td>positive</td>\n",
              "    </tr>\n",
              "    <tr>\n",
              "      <th>3</th>\n",
              "      <td>Basically there's a family where a little boy ...</td>\n",
              "      <td>negative</td>\n",
              "    </tr>\n",
              "    <tr>\n",
              "      <th>4</th>\n",
              "      <td>Petter Mattei's \"Love in the Time of Money\" is...</td>\n",
              "      <td>positive</td>\n",
              "    </tr>\n",
              "  </tbody>\n",
              "</table>\n",
              "</div>\n",
              "    <div class=\"colab-df-buttons\">\n",
              "\n",
              "  <div class=\"colab-df-container\">\n",
              "    <button class=\"colab-df-convert\" onclick=\"convertToInteractive('df-7787a8d6-b248-4f3e-a432-8a489e3c16dc')\"\n",
              "            title=\"Convert this dataframe to an interactive table.\"\n",
              "            style=\"display:none;\">\n",
              "\n",
              "  <svg xmlns=\"http://www.w3.org/2000/svg\" height=\"24px\" viewBox=\"0 -960 960 960\">\n",
              "    <path d=\"M120-120v-720h720v720H120Zm60-500h600v-160H180v160Zm220 220h160v-160H400v160Zm0 220h160v-160H400v160ZM180-400h160v-160H180v160Zm440 0h160v-160H620v160ZM180-180h160v-160H180v160Zm440 0h160v-160H620v160Z\"/>\n",
              "  </svg>\n",
              "    </button>\n",
              "\n",
              "  <style>\n",
              "    .colab-df-container {\n",
              "      display:flex;\n",
              "      gap: 12px;\n",
              "    }\n",
              "\n",
              "    .colab-df-convert {\n",
              "      background-color: #E8F0FE;\n",
              "      border: none;\n",
              "      border-radius: 50%;\n",
              "      cursor: pointer;\n",
              "      display: none;\n",
              "      fill: #1967D2;\n",
              "      height: 32px;\n",
              "      padding: 0 0 0 0;\n",
              "      width: 32px;\n",
              "    }\n",
              "\n",
              "    .colab-df-convert:hover {\n",
              "      background-color: #E2EBFA;\n",
              "      box-shadow: 0px 1px 2px rgba(60, 64, 67, 0.3), 0px 1px 3px 1px rgba(60, 64, 67, 0.15);\n",
              "      fill: #174EA6;\n",
              "    }\n",
              "\n",
              "    .colab-df-buttons div {\n",
              "      margin-bottom: 4px;\n",
              "    }\n",
              "\n",
              "    [theme=dark] .colab-df-convert {\n",
              "      background-color: #3B4455;\n",
              "      fill: #D2E3FC;\n",
              "    }\n",
              "\n",
              "    [theme=dark] .colab-df-convert:hover {\n",
              "      background-color: #434B5C;\n",
              "      box-shadow: 0px 1px 3px 1px rgba(0, 0, 0, 0.15);\n",
              "      filter: drop-shadow(0px 1px 2px rgba(0, 0, 0, 0.3));\n",
              "      fill: #FFFFFF;\n",
              "    }\n",
              "  </style>\n",
              "\n",
              "    <script>\n",
              "      const buttonEl =\n",
              "        document.querySelector('#df-7787a8d6-b248-4f3e-a432-8a489e3c16dc button.colab-df-convert');\n",
              "      buttonEl.style.display =\n",
              "        google.colab.kernel.accessAllowed ? 'block' : 'none';\n",
              "\n",
              "      async function convertToInteractive(key) {\n",
              "        const element = document.querySelector('#df-7787a8d6-b248-4f3e-a432-8a489e3c16dc');\n",
              "        const dataTable =\n",
              "          await google.colab.kernel.invokeFunction('convertToInteractive',\n",
              "                                                    [key], {});\n",
              "        if (!dataTable) return;\n",
              "\n",
              "        const docLinkHtml = 'Like what you see? Visit the ' +\n",
              "          '<a target=\"_blank\" href=https://colab.research.google.com/notebooks/data_table.ipynb>data table notebook</a>'\n",
              "          + ' to learn more about interactive tables.';\n",
              "        element.innerHTML = '';\n",
              "        dataTable['output_type'] = 'display_data';\n",
              "        await google.colab.output.renderOutput(dataTable, element);\n",
              "        const docLink = document.createElement('div');\n",
              "        docLink.innerHTML = docLinkHtml;\n",
              "        element.appendChild(docLink);\n",
              "      }\n",
              "    </script>\n",
              "  </div>\n",
              "\n",
              "\n",
              "<div id=\"df-947520d4-06de-464a-99ca-4514272e8e3a\">\n",
              "  <button class=\"colab-df-quickchart\" onclick=\"quickchart('df-947520d4-06de-464a-99ca-4514272e8e3a')\"\n",
              "            title=\"Suggest charts\"\n",
              "            style=\"display:none;\">\n",
              "\n",
              "<svg xmlns=\"http://www.w3.org/2000/svg\" height=\"24px\"viewBox=\"0 0 24 24\"\n",
              "     width=\"24px\">\n",
              "    <g>\n",
              "        <path d=\"M19 3H5c-1.1 0-2 .9-2 2v14c0 1.1.9 2 2 2h14c1.1 0 2-.9 2-2V5c0-1.1-.9-2-2-2zM9 17H7v-7h2v7zm4 0h-2V7h2v10zm4 0h-2v-4h2v4z\"/>\n",
              "    </g>\n",
              "</svg>\n",
              "  </button>\n",
              "\n",
              "<style>\n",
              "  .colab-df-quickchart {\n",
              "      --bg-color: #E8F0FE;\n",
              "      --fill-color: #1967D2;\n",
              "      --hover-bg-color: #E2EBFA;\n",
              "      --hover-fill-color: #174EA6;\n",
              "      --disabled-fill-color: #AAA;\n",
              "      --disabled-bg-color: #DDD;\n",
              "  }\n",
              "\n",
              "  [theme=dark] .colab-df-quickchart {\n",
              "      --bg-color: #3B4455;\n",
              "      --fill-color: #D2E3FC;\n",
              "      --hover-bg-color: #434B5C;\n",
              "      --hover-fill-color: #FFFFFF;\n",
              "      --disabled-bg-color: #3B4455;\n",
              "      --disabled-fill-color: #666;\n",
              "  }\n",
              "\n",
              "  .colab-df-quickchart {\n",
              "    background-color: var(--bg-color);\n",
              "    border: none;\n",
              "    border-radius: 50%;\n",
              "    cursor: pointer;\n",
              "    display: none;\n",
              "    fill: var(--fill-color);\n",
              "    height: 32px;\n",
              "    padding: 0;\n",
              "    width: 32px;\n",
              "  }\n",
              "\n",
              "  .colab-df-quickchart:hover {\n",
              "    background-color: var(--hover-bg-color);\n",
              "    box-shadow: 0 1px 2px rgba(60, 64, 67, 0.3), 0 1px 3px 1px rgba(60, 64, 67, 0.15);\n",
              "    fill: var(--button-hover-fill-color);\n",
              "  }\n",
              "\n",
              "  .colab-df-quickchart-complete:disabled,\n",
              "  .colab-df-quickchart-complete:disabled:hover {\n",
              "    background-color: var(--disabled-bg-color);\n",
              "    fill: var(--disabled-fill-color);\n",
              "    box-shadow: none;\n",
              "  }\n",
              "\n",
              "  .colab-df-spinner {\n",
              "    border: 2px solid var(--fill-color);\n",
              "    border-color: transparent;\n",
              "    border-bottom-color: var(--fill-color);\n",
              "    animation:\n",
              "      spin 1s steps(1) infinite;\n",
              "  }\n",
              "\n",
              "  @keyframes spin {\n",
              "    0% {\n",
              "      border-color: transparent;\n",
              "      border-bottom-color: var(--fill-color);\n",
              "      border-left-color: var(--fill-color);\n",
              "    }\n",
              "    20% {\n",
              "      border-color: transparent;\n",
              "      border-left-color: var(--fill-color);\n",
              "      border-top-color: var(--fill-color);\n",
              "    }\n",
              "    30% {\n",
              "      border-color: transparent;\n",
              "      border-left-color: var(--fill-color);\n",
              "      border-top-color: var(--fill-color);\n",
              "      border-right-color: var(--fill-color);\n",
              "    }\n",
              "    40% {\n",
              "      border-color: transparent;\n",
              "      border-right-color: var(--fill-color);\n",
              "      border-top-color: var(--fill-color);\n",
              "    }\n",
              "    60% {\n",
              "      border-color: transparent;\n",
              "      border-right-color: var(--fill-color);\n",
              "    }\n",
              "    80% {\n",
              "      border-color: transparent;\n",
              "      border-right-color: var(--fill-color);\n",
              "      border-bottom-color: var(--fill-color);\n",
              "    }\n",
              "    90% {\n",
              "      border-color: transparent;\n",
              "      border-bottom-color: var(--fill-color);\n",
              "    }\n",
              "  }\n",
              "</style>\n",
              "\n",
              "  <script>\n",
              "    async function quickchart(key) {\n",
              "      const quickchartButtonEl =\n",
              "        document.querySelector('#' + key + ' button');\n",
              "      quickchartButtonEl.disabled = true;  // To prevent multiple clicks.\n",
              "      quickchartButtonEl.classList.add('colab-df-spinner');\n",
              "      try {\n",
              "        const charts = await google.colab.kernel.invokeFunction(\n",
              "            'suggestCharts', [key], {});\n",
              "      } catch (error) {\n",
              "        console.error('Error during call to suggestCharts:', error);\n",
              "      }\n",
              "      quickchartButtonEl.classList.remove('colab-df-spinner');\n",
              "      quickchartButtonEl.classList.add('colab-df-quickchart-complete');\n",
              "    }\n",
              "    (() => {\n",
              "      let quickchartButtonEl =\n",
              "        document.querySelector('#df-947520d4-06de-464a-99ca-4514272e8e3a button');\n",
              "      quickchartButtonEl.style.display =\n",
              "        google.colab.kernel.accessAllowed ? 'block' : 'none';\n",
              "    })();\n",
              "  </script>\n",
              "</div>\n",
              "\n",
              "    </div>\n",
              "  </div>\n"
            ],
            "application/vnd.google.colaboratory.intrinsic+json": {
              "type": "dataframe",
              "variable_name": "df",
              "summary": "{\n  \"name\": \"df\",\n  \"rows\": 25000,\n  \"fields\": [\n    {\n      \"column\": \"review\",\n      \"properties\": {\n        \"dtype\": \"string\",\n        \"num_unique_values\": 24897,\n        \"samples\": [\n          \"There is an awful lot wrong with this picture, beginning with a script that is both obvious and redundant. Courtney Cox plays a comic book artist who escapes to a small desert town after being raped twice in the big city. She immediately is stalked by a local who appears quite unhinged (Craig Sheffer), and who seems to be attempting a third rate Mickey Rourke imitation. D.B. Sweeny is a local cop, who is supposedly there to protect and serve. Meanwhile, the script manipulates the audience as to who's really the good guy? Logic flies out the window after the first ten minutes and never returns, and there are more unanswered questions than there should be. If you think \\\"Blue Desert\\\" might be saved by the wonderful Philip Baker Hall, you will be disappointed. His part is insignificant, just like the entire movie. - MERK\",\n          \"This movie was SO stupid~!!! I could not bare to watch the rest of this movie..... To think that the spoiled bitch suggested to see other people, then walks right into another relationship 5 minutes after the agreement was made.... I really felt sorry for the guy, but then again, for a guy like that to even consider letting his fianc\\u00e9 see other people, to go along with her grand idea, well, I'm sorry but, he deserved what he got~! And she was definitely not the best fish in the sea either, he can do way, way, way better.... She had no tits.... to hips.... no nothing~! And you had to have known that she wanted this right from the start... 5 years~??? How on earth did they last that long~???\",\n          \"An art student in Rome is possessed...or something. She has dreams of being nailed to a cross and Satan himself raping her. He possesses her (I think) and turns her into a sex addict. That's about all I could take and I turned it off.A pointless \\\"Exorcist\\\" rip off. I caught this on cable back in the 80s and was horrified...and not in a good way! This movie is supposed to be a horror film but turns into nothing more than a sex film disguised as a horror movie. There's tons of pointless female nudity and the actress playing the lead has to degrade herself more than once. We see her being raped by Satan (a hot-looking guy), masturbating, coming on to her own father...Gotta give her points for bravery. Add to that bad dubbing, editing (the rape scene looks like it was cut a bit), lousy acting and a story that makes next to no sense. The one disturbing sequence (her being nailed to the cross) ALMOST works but the lousy \\\"special\\\" effects ruin it. This is one of the few horror film that was so bad I stopped watching. Skip it.\"\n        ],\n        \"semantic_type\": \"\",\n        \"description\": \"\"\n      }\n    },\n    {\n      \"column\": \"sentiment\",\n      \"properties\": {\n        \"dtype\": \"category\",\n        \"num_unique_values\": 2,\n        \"samples\": [\n          \"negative\",\n          \"positive\"\n        ],\n        \"semantic_type\": \"\",\n        \"description\": \"\"\n      }\n    }\n  ]\n}"
            }
          },
          "metadata": {},
          "execution_count": 6
        }
      ]
    },
    {
      "cell_type": "code",
      "source": [
        "import string\n",
        "punc = string.punctuation\n",
        "punc"
      ],
      "metadata": {
        "colab": {
          "base_uri": "https://localhost:8080/",
          "height": 35
        },
        "id": "Yu8S4r7R5YIw",
        "outputId": "cc4223a8-b2e8-459b-c389-f34d2295c146"
      },
      "execution_count": 7,
      "outputs": [
        {
          "output_type": "execute_result",
          "data": {
            "text/plain": [
              "'!\"#$%&\\'()*+,-./:;<=>?@[\\\\]^_`{|}~'"
            ],
            "application/vnd.google.colaboratory.intrinsic+json": {
              "type": "string"
            }
          },
          "metadata": {},
          "execution_count": 7
        }
      ]
    },
    {
      "cell_type": "code",
      "source": [
        "def remove_punc(text):\n",
        "  clean_text = \"\".join([char for char in text if char not in punc])\n",
        "  return clean_text\n",
        "\n",
        "df['review'] = df['review'].apply(remove_punc)\n",
        "df.head()"
      ],
      "metadata": {
        "colab": {
          "base_uri": "https://localhost:8080/",
          "height": 206
        },
        "id": "9iqHrXBI5idB",
        "outputId": "77b16d8c-4f1d-4718-9cc6-b5e49b5d20f7"
      },
      "execution_count": 8,
      "outputs": [
        {
          "output_type": "execute_result",
          "data": {
            "text/plain": [
              "                                              review sentiment\n",
              "0  One of the other reviewers has mentioned that ...  positive\n",
              "1  A wonderful little production The filming tech...  positive\n",
              "2  I thought this was a wonderful way to spend ti...  positive\n",
              "3  Basically theres a family where a little boy J...  negative\n",
              "4  Petter Matteis Love in the Time of Money is a ...  positive"
            ],
            "text/html": [
              "\n",
              "  <div id=\"df-d053af26-637b-4835-a111-276bfd4577a5\" class=\"colab-df-container\">\n",
              "    <div>\n",
              "<style scoped>\n",
              "    .dataframe tbody tr th:only-of-type {\n",
              "        vertical-align: middle;\n",
              "    }\n",
              "\n",
              "    .dataframe tbody tr th {\n",
              "        vertical-align: top;\n",
              "    }\n",
              "\n",
              "    .dataframe thead th {\n",
              "        text-align: right;\n",
              "    }\n",
              "</style>\n",
              "<table border=\"1\" class=\"dataframe\">\n",
              "  <thead>\n",
              "    <tr style=\"text-align: right;\">\n",
              "      <th></th>\n",
              "      <th>review</th>\n",
              "      <th>sentiment</th>\n",
              "    </tr>\n",
              "  </thead>\n",
              "  <tbody>\n",
              "    <tr>\n",
              "      <th>0</th>\n",
              "      <td>One of the other reviewers has mentioned that ...</td>\n",
              "      <td>positive</td>\n",
              "    </tr>\n",
              "    <tr>\n",
              "      <th>1</th>\n",
              "      <td>A wonderful little production The filming tech...</td>\n",
              "      <td>positive</td>\n",
              "    </tr>\n",
              "    <tr>\n",
              "      <th>2</th>\n",
              "      <td>I thought this was a wonderful way to spend ti...</td>\n",
              "      <td>positive</td>\n",
              "    </tr>\n",
              "    <tr>\n",
              "      <th>3</th>\n",
              "      <td>Basically theres a family where a little boy J...</td>\n",
              "      <td>negative</td>\n",
              "    </tr>\n",
              "    <tr>\n",
              "      <th>4</th>\n",
              "      <td>Petter Matteis Love in the Time of Money is a ...</td>\n",
              "      <td>positive</td>\n",
              "    </tr>\n",
              "  </tbody>\n",
              "</table>\n",
              "</div>\n",
              "    <div class=\"colab-df-buttons\">\n",
              "\n",
              "  <div class=\"colab-df-container\">\n",
              "    <button class=\"colab-df-convert\" onclick=\"convertToInteractive('df-d053af26-637b-4835-a111-276bfd4577a5')\"\n",
              "            title=\"Convert this dataframe to an interactive table.\"\n",
              "            style=\"display:none;\">\n",
              "\n",
              "  <svg xmlns=\"http://www.w3.org/2000/svg\" height=\"24px\" viewBox=\"0 -960 960 960\">\n",
              "    <path d=\"M120-120v-720h720v720H120Zm60-500h600v-160H180v160Zm220 220h160v-160H400v160Zm0 220h160v-160H400v160ZM180-400h160v-160H180v160Zm440 0h160v-160H620v160ZM180-180h160v-160H180v160Zm440 0h160v-160H620v160Z\"/>\n",
              "  </svg>\n",
              "    </button>\n",
              "\n",
              "  <style>\n",
              "    .colab-df-container {\n",
              "      display:flex;\n",
              "      gap: 12px;\n",
              "    }\n",
              "\n",
              "    .colab-df-convert {\n",
              "      background-color: #E8F0FE;\n",
              "      border: none;\n",
              "      border-radius: 50%;\n",
              "      cursor: pointer;\n",
              "      display: none;\n",
              "      fill: #1967D2;\n",
              "      height: 32px;\n",
              "      padding: 0 0 0 0;\n",
              "      width: 32px;\n",
              "    }\n",
              "\n",
              "    .colab-df-convert:hover {\n",
              "      background-color: #E2EBFA;\n",
              "      box-shadow: 0px 1px 2px rgba(60, 64, 67, 0.3), 0px 1px 3px 1px rgba(60, 64, 67, 0.15);\n",
              "      fill: #174EA6;\n",
              "    }\n",
              "\n",
              "    .colab-df-buttons div {\n",
              "      margin-bottom: 4px;\n",
              "    }\n",
              "\n",
              "    [theme=dark] .colab-df-convert {\n",
              "      background-color: #3B4455;\n",
              "      fill: #D2E3FC;\n",
              "    }\n",
              "\n",
              "    [theme=dark] .colab-df-convert:hover {\n",
              "      background-color: #434B5C;\n",
              "      box-shadow: 0px 1px 3px 1px rgba(0, 0, 0, 0.15);\n",
              "      filter: drop-shadow(0px 1px 2px rgba(0, 0, 0, 0.3));\n",
              "      fill: #FFFFFF;\n",
              "    }\n",
              "  </style>\n",
              "\n",
              "    <script>\n",
              "      const buttonEl =\n",
              "        document.querySelector('#df-d053af26-637b-4835-a111-276bfd4577a5 button.colab-df-convert');\n",
              "      buttonEl.style.display =\n",
              "        google.colab.kernel.accessAllowed ? 'block' : 'none';\n",
              "\n",
              "      async function convertToInteractive(key) {\n",
              "        const element = document.querySelector('#df-d053af26-637b-4835-a111-276bfd4577a5');\n",
              "        const dataTable =\n",
              "          await google.colab.kernel.invokeFunction('convertToInteractive',\n",
              "                                                    [key], {});\n",
              "        if (!dataTable) return;\n",
              "\n",
              "        const docLinkHtml = 'Like what you see? Visit the ' +\n",
              "          '<a target=\"_blank\" href=https://colab.research.google.com/notebooks/data_table.ipynb>data table notebook</a>'\n",
              "          + ' to learn more about interactive tables.';\n",
              "        element.innerHTML = '';\n",
              "        dataTable['output_type'] = 'display_data';\n",
              "        await google.colab.output.renderOutput(dataTable, element);\n",
              "        const docLink = document.createElement('div');\n",
              "        docLink.innerHTML = docLinkHtml;\n",
              "        element.appendChild(docLink);\n",
              "      }\n",
              "    </script>\n",
              "  </div>\n",
              "\n",
              "\n",
              "<div id=\"df-b543d2f2-0b69-48f6-b596-db43fe6270d0\">\n",
              "  <button class=\"colab-df-quickchart\" onclick=\"quickchart('df-b543d2f2-0b69-48f6-b596-db43fe6270d0')\"\n",
              "            title=\"Suggest charts\"\n",
              "            style=\"display:none;\">\n",
              "\n",
              "<svg xmlns=\"http://www.w3.org/2000/svg\" height=\"24px\"viewBox=\"0 0 24 24\"\n",
              "     width=\"24px\">\n",
              "    <g>\n",
              "        <path d=\"M19 3H5c-1.1 0-2 .9-2 2v14c0 1.1.9 2 2 2h14c1.1 0 2-.9 2-2V5c0-1.1-.9-2-2-2zM9 17H7v-7h2v7zm4 0h-2V7h2v10zm4 0h-2v-4h2v4z\"/>\n",
              "    </g>\n",
              "</svg>\n",
              "  </button>\n",
              "\n",
              "<style>\n",
              "  .colab-df-quickchart {\n",
              "      --bg-color: #E8F0FE;\n",
              "      --fill-color: #1967D2;\n",
              "      --hover-bg-color: #E2EBFA;\n",
              "      --hover-fill-color: #174EA6;\n",
              "      --disabled-fill-color: #AAA;\n",
              "      --disabled-bg-color: #DDD;\n",
              "  }\n",
              "\n",
              "  [theme=dark] .colab-df-quickchart {\n",
              "      --bg-color: #3B4455;\n",
              "      --fill-color: #D2E3FC;\n",
              "      --hover-bg-color: #434B5C;\n",
              "      --hover-fill-color: #FFFFFF;\n",
              "      --disabled-bg-color: #3B4455;\n",
              "      --disabled-fill-color: #666;\n",
              "  }\n",
              "\n",
              "  .colab-df-quickchart {\n",
              "    background-color: var(--bg-color);\n",
              "    border: none;\n",
              "    border-radius: 50%;\n",
              "    cursor: pointer;\n",
              "    display: none;\n",
              "    fill: var(--fill-color);\n",
              "    height: 32px;\n",
              "    padding: 0;\n",
              "    width: 32px;\n",
              "  }\n",
              "\n",
              "  .colab-df-quickchart:hover {\n",
              "    background-color: var(--hover-bg-color);\n",
              "    box-shadow: 0 1px 2px rgba(60, 64, 67, 0.3), 0 1px 3px 1px rgba(60, 64, 67, 0.15);\n",
              "    fill: var(--button-hover-fill-color);\n",
              "  }\n",
              "\n",
              "  .colab-df-quickchart-complete:disabled,\n",
              "  .colab-df-quickchart-complete:disabled:hover {\n",
              "    background-color: var(--disabled-bg-color);\n",
              "    fill: var(--disabled-fill-color);\n",
              "    box-shadow: none;\n",
              "  }\n",
              "\n",
              "  .colab-df-spinner {\n",
              "    border: 2px solid var(--fill-color);\n",
              "    border-color: transparent;\n",
              "    border-bottom-color: var(--fill-color);\n",
              "    animation:\n",
              "      spin 1s steps(1) infinite;\n",
              "  }\n",
              "\n",
              "  @keyframes spin {\n",
              "    0% {\n",
              "      border-color: transparent;\n",
              "      border-bottom-color: var(--fill-color);\n",
              "      border-left-color: var(--fill-color);\n",
              "    }\n",
              "    20% {\n",
              "      border-color: transparent;\n",
              "      border-left-color: var(--fill-color);\n",
              "      border-top-color: var(--fill-color);\n",
              "    }\n",
              "    30% {\n",
              "      border-color: transparent;\n",
              "      border-left-color: var(--fill-color);\n",
              "      border-top-color: var(--fill-color);\n",
              "      border-right-color: var(--fill-color);\n",
              "    }\n",
              "    40% {\n",
              "      border-color: transparent;\n",
              "      border-right-color: var(--fill-color);\n",
              "      border-top-color: var(--fill-color);\n",
              "    }\n",
              "    60% {\n",
              "      border-color: transparent;\n",
              "      border-right-color: var(--fill-color);\n",
              "    }\n",
              "    80% {\n",
              "      border-color: transparent;\n",
              "      border-right-color: var(--fill-color);\n",
              "      border-bottom-color: var(--fill-color);\n",
              "    }\n",
              "    90% {\n",
              "      border-color: transparent;\n",
              "      border-bottom-color: var(--fill-color);\n",
              "    }\n",
              "  }\n",
              "</style>\n",
              "\n",
              "  <script>\n",
              "    async function quickchart(key) {\n",
              "      const quickchartButtonEl =\n",
              "        document.querySelector('#' + key + ' button');\n",
              "      quickchartButtonEl.disabled = true;  // To prevent multiple clicks.\n",
              "      quickchartButtonEl.classList.add('colab-df-spinner');\n",
              "      try {\n",
              "        const charts = await google.colab.kernel.invokeFunction(\n",
              "            'suggestCharts', [key], {});\n",
              "      } catch (error) {\n",
              "        console.error('Error during call to suggestCharts:', error);\n",
              "      }\n",
              "      quickchartButtonEl.classList.remove('colab-df-spinner');\n",
              "      quickchartButtonEl.classList.add('colab-df-quickchart-complete');\n",
              "    }\n",
              "    (() => {\n",
              "      let quickchartButtonEl =\n",
              "        document.querySelector('#df-b543d2f2-0b69-48f6-b596-db43fe6270d0 button');\n",
              "      quickchartButtonEl.style.display =\n",
              "        google.colab.kernel.accessAllowed ? 'block' : 'none';\n",
              "    })();\n",
              "  </script>\n",
              "</div>\n",
              "\n",
              "    </div>\n",
              "  </div>\n"
            ],
            "application/vnd.google.colaboratory.intrinsic+json": {
              "type": "dataframe",
              "variable_name": "df",
              "summary": "{\n  \"name\": \"df\",\n  \"rows\": 25000,\n  \"fields\": [\n    {\n      \"column\": \"review\",\n      \"properties\": {\n        \"dtype\": \"string\",\n        \"num_unique_values\": 24897,\n        \"samples\": [\n          \"There is an awful lot wrong with this picture beginning with a script that is both obvious and redundant Courtney Cox plays a comic book artist who escapes to a small desert town after being raped twice in the big city She immediately is stalked by a local who appears quite unhinged Craig Sheffer and who seems to be attempting a third rate Mickey Rourke imitation DB Sweeny is a local cop who is supposedly there to protect and serve Meanwhile the script manipulates the audience as to whos really the good guy Logic flies out the window after the first ten minutes and never returns and there are more unanswered questions than there should be If you think Blue Desert might be saved by the wonderful Philip Baker Hall you will be disappointed His part is insignificant just like the entire movie  MERK\",\n          \"This movie was SO stupid I could not bare to watch the rest of this movie To think that the spoiled bitch suggested to see other people then walks right into another relationship 5 minutes after the agreement was made I really felt sorry for the guy but then again for a guy like that to even consider letting his fianc\\u00e9 see other people to go along with her grand idea well Im sorry but he deserved what he got And she was definitely not the best fish in the sea either he can do way way way better She had no tits to hips no nothing And you had to have known that she wanted this right from the start 5 years How on earth did they last that long\",\n          \"An art student in Rome is possessedor something She has dreams of being nailed to a cross and Satan himself raping her He possesses her I think and turns her into a sex addict Thats about all I could take and I turned it offA pointless Exorcist rip off I caught this on cable back in the 80s and was horrifiedand not in a good way This movie is supposed to be a horror film but turns into nothing more than a sex film disguised as a horror movie Theres tons of pointless female nudity and the actress playing the lead has to degrade herself more than once We see her being raped by Satan a hotlooking guy masturbating coming on to her own fatherGotta give her points for bravery Add to that bad dubbing editing the rape scene looks like it was cut a bit lousy acting and a story that makes next to no sense The one disturbing sequence her being nailed to the cross ALMOST works but the lousy special effects ruin it This is one of the few horror film that was so bad I stopped watching Skip it\"\n        ],\n        \"semantic_type\": \"\",\n        \"description\": \"\"\n      }\n    },\n    {\n      \"column\": \"sentiment\",\n      \"properties\": {\n        \"dtype\": \"category\",\n        \"num_unique_values\": 2,\n        \"samples\": [\n          \"negative\",\n          \"positive\"\n        ],\n        \"semantic_type\": \"\",\n        \"description\": \"\"\n      }\n    }\n  ]\n}"
            }
          },
          "metadata": {},
          "execution_count": 8
        }
      ]
    },
    {
      "cell_type": "code",
      "source": [
        "df['review'] =  df['review'].str.lower()"
      ],
      "metadata": {
        "id": "SKwanr7F5kDH"
      },
      "execution_count": 9,
      "outputs": []
    },
    {
      "cell_type": "code",
      "source": [
        "def stp_words(text):\n",
        "  clean_text = [word for word in text.split() if word not in stopwords.words('english')]\n",
        "  return clean_text\n",
        "\n",
        "df['review'] = df['review'].apply(stp_words)"
      ],
      "metadata": {
        "id": "rMaP9ua05rBW"
      },
      "execution_count": 10,
      "outputs": []
    },
    {
      "cell_type": "code",
      "source": [
        "token = Tokenizer()\n",
        "token.fit_on_texts(df['review'])"
      ],
      "metadata": {
        "id": "oSBOWpLi6a8w"
      },
      "execution_count": 12,
      "outputs": []
    },
    {
      "cell_type": "code",
      "source": [
        "len(token.word_index)"
      ],
      "metadata": {
        "colab": {
          "base_uri": "https://localhost:8080/"
        },
        "id": "zXErlco56qeZ",
        "outputId": "aa1b9432-97c1-4c4c-96a4-34cbc1cb8337"
      },
      "execution_count": 13,
      "outputs": [
        {
          "output_type": "execute_result",
          "data": {
            "text/plain": [
              "144060"
            ]
          },
          "metadata": {},
          "execution_count": 13
        }
      ]
    },
    {
      "cell_type": "code",
      "source": [
        "seq = token.texts_to_sequences(df['review'])"
      ],
      "metadata": {
        "id": "X1O5ytw76thE"
      },
      "execution_count": 14,
      "outputs": []
    },
    {
      "cell_type": "code",
      "source": [
        "average = statistics.mean"
      ],
      "metadata": {
        "id": "475Ud3sD76l-"
      },
      "execution_count": 15,
      "outputs": []
    },
    {
      "cell_type": "code",
      "source": [
        "average([len(x) for x in seq])"
      ],
      "metadata": {
        "colab": {
          "base_uri": "https://localhost:8080/"
        },
        "id": "xCIVbkPA7Crj",
        "outputId": "eab3b8b6-6165-482c-e808-b78b3ff0847a"
      },
      "execution_count": 16,
      "outputs": [
        {
          "output_type": "execute_result",
          "data": {
            "text/plain": [
              "119.99108"
            ]
          },
          "metadata": {},
          "execution_count": 16
        }
      ]
    },
    {
      "cell_type": "code",
      "source": [
        "padding = pad_sequences(seq,maxlen=220,padding='pre')"
      ],
      "metadata": {
        "id": "XAhO2cux7DpT"
      },
      "execution_count": 17,
      "outputs": []
    },
    {
      "cell_type": "code",
      "source": [
        "padding.shape"
      ],
      "metadata": {
        "colab": {
          "base_uri": "https://localhost:8080/"
        },
        "id": "UPmsgQL28S_Z",
        "outputId": "7cf6efd8-46db-4f03-8856-1f0cd5bf10ba"
      },
      "execution_count": 18,
      "outputs": [
        {
          "output_type": "execute_result",
          "data": {
            "text/plain": [
              "(25000, 220)"
            ]
          },
          "metadata": {},
          "execution_count": 18
        }
      ]
    },
    {
      "cell_type": "code",
      "source": [
        "from sklearn.preprocessing import LabelEncoder\n",
        "le = LabelEncoder()\n",
        "df['sentiment'] = le.fit_transform(df['sentiment'])"
      ],
      "metadata": {
        "id": "RDWwx44u8hWS"
      },
      "execution_count": 19,
      "outputs": []
    },
    {
      "cell_type": "code",
      "source": [
        "x= padding\n",
        "y = df['sentiment']"
      ],
      "metadata": {
        "id": "UiIlEPAg8fjc"
      },
      "execution_count": 20,
      "outputs": []
    },
    {
      "cell_type": "code",
      "source": [
        "x_train, x_test, y_train, y_test = train_test_split(x, y, test_size=0.175, random_state=42)"
      ],
      "metadata": {
        "id": "ks_JrPsY8UlU"
      },
      "execution_count": 21,
      "outputs": []
    },
    {
      "cell_type": "code",
      "source": [
        "x_train.shape , x_test.shape , y_train.shape , y_test.shape"
      ],
      "metadata": {
        "colab": {
          "base_uri": "https://localhost:8080/"
        },
        "id": "qcvf0_v-8oQ9",
        "outputId": "bf21b591-b571-4e3c-a2fa-398d0b0e0bed"
      },
      "execution_count": 22,
      "outputs": [
        {
          "output_type": "execute_result",
          "data": {
            "text/plain": [
              "((20625, 220), (4375, 220), (20625,), (4375,))"
            ]
          },
          "metadata": {},
          "execution_count": 22
        }
      ]
    },
    {
      "cell_type": "code",
      "source": [
        "y.value_counts()"
      ],
      "metadata": {
        "colab": {
          "base_uri": "https://localhost:8080/"
        },
        "id": "5XUH9HVV9cb7",
        "outputId": "d512fb54-a830-4412-ebfb-a694de3daae4"
      },
      "execution_count": 23,
      "outputs": [
        {
          "output_type": "execute_result",
          "data": {
            "text/plain": [
              "sentiment\n",
              "0    12526\n",
              "1    12474\n",
              "Name: count, dtype: int64"
            ]
          },
          "metadata": {},
          "execution_count": 23
        }
      ]
    },
    {
      "cell_type": "code",
      "source": [
        "vocab_size = len(token.word_index) + 1\n",
        "print(f\"Vocabulary size in x_train: {vocab_size}\")"
      ],
      "metadata": {
        "colab": {
          "base_uri": "https://localhost:8080/"
        },
        "id": "1y8nMszm-CG2",
        "outputId": "65d13ef2-ec8f-4128-d6c0-6e870351f6f5"
      },
      "execution_count": 24,
      "outputs": [
        {
          "output_type": "stream",
          "name": "stdout",
          "text": [
            "Vocabulary size in x_train: 144061\n"
          ]
        }
      ]
    },
    {
      "cell_type": "markdown",
      "source": [
        "# **Model** **Building** ⌛"
      ],
      "metadata": {
        "id": "nSnwtqmQHqEM"
      }
    },
    {
      "cell_type": "code",
      "source": [
        "m1 = Sequential()\n",
        "m1.add(Embedding(67142,100,input_length=220))\n",
        "m1.add(SimpleRNN(150,return_sequences=True))\n",
        "m1.add(SimpleRNN(50,return_sequences=True))\n",
        "m1.add(SimpleRNN(25))\n",
        "m1.add(Dense(1,activation='sigmoid'))\n",
        "\n",
        "m1.summary()"
      ],
      "metadata": {
        "colab": {
          "base_uri": "https://localhost:8080/"
        },
        "collapsed": true,
        "id": "UYpRFIPf8-3V",
        "outputId": "75be1767-938f-432b-9b7d-5357b1c25766"
      },
      "execution_count": 28,
      "outputs": [
        {
          "output_type": "stream",
          "name": "stdout",
          "text": [
            "Model: \"sequential_1\"\n",
            "_________________________________________________________________\n",
            " Layer (type)                Output Shape              Param #   \n",
            "=================================================================\n",
            " embedding_1 (Embedding)     (None, 220, 100)          6714200   \n",
            "                                                                 \n",
            " simple_rnn_3 (SimpleRNN)    (None, 220, 150)          37650     \n",
            "                                                                 \n",
            " simple_rnn_4 (SimpleRNN)    (None, 220, 50)           10050     \n",
            "                                                                 \n",
            " simple_rnn_5 (SimpleRNN)    (None, 25)                1900      \n",
            "                                                                 \n",
            " dense_1 (Dense)             (None, 1)                 26        \n",
            "                                                                 \n",
            "=================================================================\n",
            "Total params: 6763826 (25.80 MB)\n",
            "Trainable params: 6763826 (25.80 MB)\n",
            "Non-trainable params: 0 (0.00 Byte)\n",
            "_________________________________________________________________\n"
          ]
        }
      ]
    },
    {
      "cell_type": "code",
      "source": [
        "m1.compile(optimizer='adam',loss='binary_crossentropy',metrics=['accuracy'])\n",
        "m1.fit(x_train,y_train,epochs=5,batch_size=500,validation_data=(x_test,y_test))"
      ],
      "metadata": {
        "colab": {
          "base_uri": "https://localhost:8080/"
        },
        "id": "QKKuRlTX-V37",
        "outputId": "8cd2424b-01f5-4b2d-9e95-d35307866cde"
      },
      "execution_count": 29,
      "outputs": [
        {
          "output_type": "stream",
          "name": "stdout",
          "text": [
            "Epoch 1/5\n",
            "42/42 [==============================] - 40s 823ms/step - loss: 0.7024 - accuracy: 0.5026 - val_loss: 0.6935 - val_accuracy: 0.4978\n",
            "Epoch 2/5\n",
            "42/42 [==============================] - 35s 824ms/step - loss: 0.6917 - accuracy: 0.5369 - val_loss: 0.6874 - val_accuracy: 0.5445\n",
            "Epoch 3/5\n",
            "42/42 [==============================] - 34s 813ms/step - loss: 0.6848 - accuracy: 0.5652 - val_loss: 0.6818 - val_accuracy: 0.5593\n",
            "Epoch 4/5\n",
            "42/42 [==============================] - 34s 820ms/step - loss: 0.6500 - accuracy: 0.6188 - val_loss: 0.6653 - val_accuracy: 0.5682\n",
            "Epoch 5/5\n",
            "42/42 [==============================] - 36s 867ms/step - loss: 0.4775 - accuracy: 0.7965 - val_loss: 0.7071 - val_accuracy: 0.5915\n"
          ]
        },
        {
          "output_type": "execute_result",
          "data": {
            "text/plain": [
              "<keras.src.callbacks.History at 0x7d6b6b79c9a0>"
            ]
          },
          "metadata": {},
          "execution_count": 29
        }
      ]
    },
    {
      "cell_type": "code",
      "source": [
        "m2 = Sequential()\n",
        "m2.add(Embedding(144771,output_dim=250,input_length=220))\n",
        "m2.add(Bidirectional(LSTM(150,return_sequences=True)))\n",
        "m2.add(Bidirectional(GRU(100,return_sequences=True)))\n",
        "m2.add(Dropout(0.2))\n",
        "m2.add(Bidirectional(LSTM(50,return_sequences=True)))\n",
        "m2.add(Bidirectional(GRU(30,return_sequences=True)))\n",
        "m2.add(Dropout(0.2))\n",
        "m2.add(LSTM(10))\n",
        "m2.add(Dense(1,activation='sigmoid'))\n",
        "\n",
        "m2.summary()"
      ],
      "metadata": {
        "colab": {
          "base_uri": "https://localhost:8080/"
        },
        "id": "we-CHgZ4-qnX",
        "outputId": "bb38e624-7f62-4226-f647-d4f8606f258a"
      },
      "execution_count": 30,
      "outputs": [
        {
          "output_type": "stream",
          "name": "stdout",
          "text": [
            "Model: \"sequential_2\"\n",
            "_________________________________________________________________\n",
            " Layer (type)                Output Shape              Param #   \n",
            "=================================================================\n",
            " embedding_2 (Embedding)     (None, 220, 250)          36192750  \n",
            "                                                                 \n",
            " bidirectional (Bidirection  (None, 220, 300)          481200    \n",
            " al)                                                             \n",
            "                                                                 \n",
            " bidirectional_1 (Bidirecti  (None, 220, 200)          241200    \n",
            " onal)                                                           \n",
            "                                                                 \n",
            " dropout (Dropout)           (None, 220, 200)          0         \n",
            "                                                                 \n",
            " bidirectional_2 (Bidirecti  (None, 220, 100)          100400    \n",
            " onal)                                                           \n",
            "                                                                 \n",
            " bidirectional_3 (Bidirecti  (None, 220, 60)           23760     \n",
            " onal)                                                           \n",
            "                                                                 \n",
            " dropout_1 (Dropout)         (None, 220, 60)           0         \n",
            "                                                                 \n",
            " lstm_2 (LSTM)               (None, 10)                2840      \n",
            "                                                                 \n",
            " dense_2 (Dense)             (None, 1)                 11        \n",
            "                                                                 \n",
            "=================================================================\n",
            "Total params: 37042161 (141.30 MB)\n",
            "Trainable params: 37042161 (141.30 MB)\n",
            "Non-trainable params: 0 (0.00 Byte)\n",
            "_________________________________________________________________\n"
          ]
        }
      ]
    },
    {
      "cell_type": "code",
      "source": [
        "m2.compile(optimizer='adam',loss='binary_crossentropy',metrics=['accuracy'])\n",
        "m2.fit(x,y,epochs=7,batch_size=500)"
      ],
      "metadata": {
        "colab": {
          "base_uri": "https://localhost:8080/"
        },
        "id": "JOivrE7H-1wJ",
        "outputId": "4857c082-2e24-4e2d-b4be-ced8386edf11"
      },
      "execution_count": 31,
      "outputs": [
        {
          "output_type": "stream",
          "name": "stdout",
          "text": [
            "Epoch 1/7\n",
            "50/50 [==============================] - 37s 383ms/step - loss: 0.4874 - accuracy: 0.7622\n",
            "Epoch 2/7\n",
            "50/50 [==============================] - 22s 437ms/step - loss: 0.1834 - accuracy: 0.9362\n",
            "Epoch 3/7\n",
            "50/50 [==============================] - 19s 383ms/step - loss: 0.0773 - accuracy: 0.9778\n",
            "Epoch 4/7\n",
            "50/50 [==============================] - 21s 412ms/step - loss: 0.0407 - accuracy: 0.9898\n",
            "Epoch 5/7\n",
            "50/50 [==============================] - 19s 383ms/step - loss: 0.0245 - accuracy: 0.9954\n",
            "Epoch 6/7\n",
            "50/50 [==============================] - 19s 385ms/step - loss: 0.0206 - accuracy: 0.9954\n",
            "Epoch 7/7\n",
            "50/50 [==============================] - 19s 383ms/step - loss: 0.0126 - accuracy: 0.9978\n"
          ]
        },
        {
          "output_type": "execute_result",
          "data": {
            "text/plain": [
              "<keras.src.callbacks.History at 0x7d6ae4f667d0>"
            ]
          },
          "metadata": {},
          "execution_count": 31
        }
      ]
    },
    {
      "cell_type": "code",
      "source": [
        "m3 = Sequential()\n",
        "m3.add(Embedding(144771,output_dim=250,input_length=220))\n",
        "m3.add(Bidirectional(LSTM(170,return_sequences=True)))\n",
        "m3.add(Bidirectional(GRU(130,return_sequences=True)))\n",
        "m3.add(Dropout(0.2))\n",
        "m3.add(Bidirectional(LSTM(70,return_sequences=True)))\n",
        "m3.add(Bidirectional(GRU(40,return_sequences=True)))\n",
        "m3.add(Dropout(0.2))\n",
        "m3.add(Bidirectional(GRU(20,return_sequences=True)))\n",
        "m3.add(LSTM(20))\n",
        "m3.add(Dense(1,activation='sigmoid'))\n",
        "\n",
        "m3.summary()"
      ],
      "metadata": {
        "colab": {
          "base_uri": "https://localhost:8080/"
        },
        "id": "Sg0Z4EQ1Eh5y",
        "outputId": "7d80e80b-2979-449e-b981-52caa8f74d1a",
        "collapsed": true
      },
      "execution_count": 42,
      "outputs": [
        {
          "output_type": "stream",
          "name": "stdout",
          "text": [
            "Model: \"sequential_7\"\n",
            "_________________________________________________________________\n",
            " Layer (type)                Output Shape              Param #   \n",
            "=================================================================\n",
            " embedding_7 (Embedding)     (None, 220, 250)          36192750  \n",
            "                                                                 \n",
            " bidirectional_24 (Bidirect  (None, 220, 340)          572560    \n",
            " ional)                                                          \n",
            "                                                                 \n",
            " bidirectional_25 (Bidirect  (None, 220, 260)          368160    \n",
            " ional)                                                          \n",
            "                                                                 \n",
            " dropout_10 (Dropout)        (None, 220, 260)          0         \n",
            "                                                                 \n",
            " bidirectional_26 (Bidirect  (None, 220, 140)          185360    \n",
            " ional)                                                          \n",
            "                                                                 \n",
            " bidirectional_27 (Bidirect  (None, 220, 80)           43680     \n",
            " ional)                                                          \n",
            "                                                                 \n",
            " dropout_11 (Dropout)        (None, 220, 80)           0         \n",
            "                                                                 \n",
            " bidirectional_28 (Bidirect  (None, 220, 40)           12240     \n",
            " ional)                                                          \n",
            "                                                                 \n",
            " lstm_17 (LSTM)              (None, 20)                4880      \n",
            "                                                                 \n",
            " dense_7 (Dense)             (None, 1)                 21        \n",
            "                                                                 \n",
            "=================================================================\n",
            "Total params: 37379651 (142.59 MB)\n",
            "Trainable params: 37379651 (142.59 MB)\n",
            "Non-trainable params: 0 (0.00 Byte)\n",
            "_________________________________________________________________\n"
          ]
        }
      ]
    },
    {
      "cell_type": "code",
      "source": [
        "m3.compile(optimizer='adam',loss='binary_crossentropy',metrics=['accuracy'])\n",
        "m3.fit(x_train,y_train,epochs=15,validation_data=(x_test,y_test))"
      ],
      "metadata": {
        "colab": {
          "base_uri": "https://localhost:8080/"
        },
        "id": "3uesA6gkFpUO",
        "outputId": "d8552c84-e343-43f2-e5bd-10da92e3581b"
      },
      "execution_count": 43,
      "outputs": [
        {
          "output_type": "stream",
          "name": "stdout",
          "text": [
            "Epoch 1/15\n",
            "645/645 [==============================] - 139s 180ms/step - loss: 0.6510 - accuracy: 0.5615 - val_loss: 0.6924 - val_accuracy: 0.5122\n",
            "Epoch 2/15\n",
            "645/645 [==============================] - 84s 130ms/step - loss: 0.4966 - accuracy: 0.7691 - val_loss: 0.5732 - val_accuracy: 0.7234\n",
            "Epoch 3/15\n",
            "645/645 [==============================] - 76s 119ms/step - loss: 0.2788 - accuracy: 0.8918 - val_loss: 0.4626 - val_accuracy: 0.8352\n",
            "Epoch 4/15\n",
            "645/645 [==============================] - 72s 112ms/step - loss: 0.1126 - accuracy: 0.9642 - val_loss: 0.3995 - val_accuracy: 0.8478\n",
            "Epoch 5/15\n",
            "645/645 [==============================] - 71s 110ms/step - loss: 0.0438 - accuracy: 0.9885 - val_loss: 0.5475 - val_accuracy: 0.8491\n",
            "Epoch 6/15\n",
            "645/645 [==============================] - 75s 116ms/step - loss: 0.0207 - accuracy: 0.9952 - val_loss: 0.7237 - val_accuracy: 0.8482\n",
            "Epoch 7/15\n",
            "645/645 [==============================] - 72s 111ms/step - loss: 0.0167 - accuracy: 0.9962 - val_loss: 0.6241 - val_accuracy: 0.8592\n",
            "Epoch 8/15\n",
            "645/645 [==============================] - 71s 110ms/step - loss: 0.0176 - accuracy: 0.9954 - val_loss: 0.6340 - val_accuracy: 0.8528\n",
            "Epoch 9/15\n",
            "645/645 [==============================] - 71s 110ms/step - loss: 0.0140 - accuracy: 0.9963 - val_loss: 0.6670 - val_accuracy: 0.8153\n",
            "Epoch 10/15\n",
            "645/645 [==============================] - 70s 108ms/step - loss: 0.0086 - accuracy: 0.9979 - val_loss: 0.6442 - val_accuracy: 0.8599\n",
            "Epoch 11/15\n",
            "645/645 [==============================] - 76s 118ms/step - loss: 0.0070 - accuracy: 0.9982 - val_loss: 0.9180 - val_accuracy: 0.7954\n",
            "Epoch 12/15\n",
            "645/645 [==============================] - 70s 109ms/step - loss: 0.0131 - accuracy: 0.9960 - val_loss: 0.8458 - val_accuracy: 0.8272\n",
            "Epoch 13/15\n",
            "645/645 [==============================] - 76s 118ms/step - loss: 0.0038 - accuracy: 0.9992 - val_loss: 0.8913 - val_accuracy: 0.8510\n",
            "Epoch 14/15\n",
            "645/645 [==============================] - 71s 111ms/step - loss: 0.0027 - accuracy: 0.9994 - val_loss: 1.0168 - val_accuracy: 0.8418\n",
            "Epoch 15/15\n",
            "645/645 [==============================] - 70s 108ms/step - loss: 0.0038 - accuracy: 0.9990 - val_loss: 0.8681 - val_accuracy: 0.8473\n"
          ]
        },
        {
          "output_type": "execute_result",
          "data": {
            "text/plain": [
              "<keras.src.callbacks.History at 0x7d6ae5a246a0>"
            ]
          },
          "metadata": {},
          "execution_count": 43
        }
      ]
    },
    {
      "cell_type": "markdown",
      "source": [
        "**m3 model delivered an accuracy of 99.90 after 15 epochs.**\n",
        "\n",
        "Others metrics after 15 epochs are:\n",
        "\n",
        "\n",
        "*   loss : 0.38\n",
        "*   validation accuracy : 84.73\n",
        "*   validation loss : 86.81\n",
        "\n"
      ],
      "metadata": {
        "id": "LPqWpcVvSuyJ"
      }
    },
    {
      "cell_type": "markdown",
      "source": [
        "# **Evaluation** ⚓"
      ],
      "metadata": {
        "id": "0LNzQieQSjaq"
      }
    },
    {
      "cell_type": "code",
      "source": [
        "text = ['''One of the most brain dead idiotic movies with the most crazy and psychotic characters as protagonists of 2024.\n",
        "What a waste of time and energy. There are 0 characters in this movie that are remotely normal''' ]\n",
        "seq = token.texts_to_sequences(text)\n",
        "padding = pad_sequences(seq,maxlen=220,padding='pre')\n",
        "pred = mode.predict(padding)\n",
        "if pred < 0.2:\n",
        "    print('flop movie')\n",
        "elif 0.2 <= pred < 0.55:\n",
        "    print('average movie')\n",
        "elif 0.55 <= pred < 0.8:\n",
        "    print('good movie')\n",
        "else:\n",
        "    print('Blockboster movie')"
      ],
      "metadata": {
        "colab": {
          "base_uri": "https://localhost:8080/"
        },
        "id": "iBHwnpJfGW3K",
        "outputId": "bd13d4cb-c0d1-4096-efe6-e256b78c08b4"
      },
      "execution_count": 48,
      "outputs": [
        {
          "output_type": "stream",
          "name": "stdout",
          "text": [
            "1/1 [==============================] - 0s 48ms/step\n",
            "flop movie\n"
          ]
        }
      ]
    },
    {
      "cell_type": "code",
      "source": [
        "text = ['''Laapata Ladies is a sort of film that is very rare these days. A satire that is an eye-opener for the audience and needs everyone's attention. With unknown cast, limited budget and great script, it's a movie for all age-groups, every gender and is bound to go a long way.\n",
        "\n",
        "This Kiran Rao's tragicomedy of two brides in rural India who accidentally get swapped during a train journey while returning from their wedding. Their misadventures after this strange event will make you laugh and the same time think about the social taboos a women has to go through in our society.\n",
        "\n",
        "Ravi Kishan playing the cop investigating this case is a delight to watch. Very subtly and hilariously he gives movie the much needed comic side that perfectly balances the emotional cause for which the movie was made. Probably one of his best performance till date.\n",
        "''']"
      ],
      "metadata": {
        "id": "euPQOv89Lqjw"
      },
      "execution_count": 50,
      "outputs": []
    },
    {
      "cell_type": "code",
      "source": [
        "seq = token.texts_to_sequences(text)\n",
        "padding = pad_sequences(seq,maxlen=220,padding='pre')\n",
        "pred = mode.predict(padding)\n",
        "if pred < 0.2:\n",
        "    print('flop movie')\n",
        "elif 0.2 <= pred < 0.55:\n",
        "    print('average movie')\n",
        "elif 0.55 <= pred < 0.8:\n",
        "    print('good movie')\n",
        "else:\n",
        "    print('Blockboster movie')"
      ],
      "metadata": {
        "colab": {
          "base_uri": "https://localhost:8080/"
        },
        "id": "dsRwMrhOSZOg",
        "outputId": "7b13c9ff-7989-4079-fafa-b7f4293c41d0"
      },
      "execution_count": 51,
      "outputs": [
        {
          "output_type": "stream",
          "name": "stdout",
          "text": [
            "1/1 [==============================] - 0s 69ms/step\n",
            "Blockboster movie\n"
          ]
        }
      ]
    }
  ]
}